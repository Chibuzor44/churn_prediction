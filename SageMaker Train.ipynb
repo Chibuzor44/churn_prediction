{
 "cells": [
  {
   "cell_type": "markdown",
   "metadata": {},
   "source": [
    "# Developement of Random fores model with SageMaker"
   ]
  },
  {
   "cell_type": "code",
   "execution_count": 1,
   "metadata": {},
   "outputs": [],
   "source": [
    "import pandas as pd\n",
    "from sklearn.ensemble import RandomForestClassifier\n",
    "from time import time\n",
    "import sagemaker\n",
    "from sagemaker import get_execution_role\n",
    "import json\n",
    "import boto3"
   ]
  },
  {
   "cell_type": "markdown",
   "metadata": {},
   "source": [
    "## Initializations"
   ]
  },
  {
   "cell_type": "code",
   "execution_count": 2,
   "metadata": {},
   "outputs": [
    {
     "name": "stdout",
     "output_type": "stream",
     "text": [
      "Account: 254464376720\n",
      "Role: arn:aws:iam::254464376720:role/service-role/AmazonSageMaker-ExecutionRole-20200522T014344\n",
      "Image: 254464376720.dkr.ecr.us-east-1.amazonaws.com/sagemaker-random-forest:latest\n"
     ]
    }
   ],
   "source": [
    "sess = sagemaker.Session()\n",
    "role = get_execution_role()\n",
    "bucket = 'sagemaker-churns-prediction'\n",
    "region_name = boto3.Session().region_name\n",
    "account = sess.boto_session.client('sts').get_caller_identity()['Account']\n",
    "image = '{}.dkr.ecr.{}.amazonaws.com/sagemaker-random-forest:latest'.format(account, region_name)\n",
    "print(f'Account: {account}')\n",
    "print(f'Role: {role}')\n",
    "print(f'Image: {image}')"
   ]
  },
  {
   "cell_type": "markdown",
   "metadata": {},
   "source": [
    "## Build and push docker container"
   ]
  },
  {
   "cell_type": "code",
   "execution_count": 3,
   "metadata": {},
   "outputs": [
    {
     "name": "stdout",
     "output_type": "stream",
     "text": [
      "Not logged in to https://index.docker.io/v1/\n"
     ]
    }
   ],
   "source": [
    "%%sh\n",
    "docker logout"
   ]
  },
  {
   "cell_type": "code",
   "execution_count": 4,
   "metadata": {},
   "outputs": [
    {
     "name": "stdout",
     "output_type": "stream",
     "text": [
      "Login Succeeded\n",
      "Sending build context to Docker daemon  2.134MB\r",
      "\r\n",
      "Step 1/9 : FROM ubuntu:16.04\n",
      " ---> 005d2078bdfa\n",
      "Step 2/9 : MAINTAINER Amazon AI <sage-learner@amazon.com>\n",
      " ---> Using cache\n",
      " ---> eb343bceaa44\n",
      "Step 3/9 : RUN apt-get -y update && apt-get install -y --no-install-recommends          wget          python          nginx          ca-certificates     && rm -rf /var/lib/apt/lists/*\n",
      " ---> Using cache\n",
      " ---> 0484954b4436\n",
      "Step 4/9 : RUN wget https://bootstrap.pypa.io/get-pip.py && python get-pip.py &&     pip install numpy==1.16.2 scipy==1.2.1 scikit-learn==0.20.2 pandas flask gevent gunicorn &&         (cd /usr/local/lib/python2.7/dist-packages/scipy/.libs; rm *; ln ../../numpy/.libs/* .) &&         rm -rf /root/.cache\n",
      " ---> Using cache\n",
      " ---> 6228845cd650\n",
      "Step 5/9 : ENV PYTHONUNBUFFERED=TRUE\n",
      " ---> Using cache\n",
      " ---> b66cae485a7b\n",
      "Step 6/9 : ENV PYTHONDONTWRITEBYTECODE=TRUE\n",
      " ---> Using cache\n",
      " ---> c3c8090cfe46\n",
      "Step 7/9 : ENV PATH=\"/opt/program:${PATH}\"\n",
      " ---> Using cache\n",
      " ---> 24b3dc28d563\n",
      "Step 8/9 : COPY random_forest /opt/program\n",
      " ---> eaf8f9212df6\n",
      "Step 9/9 : WORKDIR /opt/program\n",
      " ---> Running in e9672af2cdad\n",
      "Removing intermediate container e9672af2cdad\n",
      " ---> f2b288e08f67\n",
      "Successfully built f2b288e08f67\n",
      "Successfully tagged sagemaker-random-forest:latest\n",
      "The push refers to repository [254464376720.dkr.ecr.us-east-1.amazonaws.com/sagemaker-random-forest]\n",
      "f8bd028d5c96: Preparing\n",
      "24193137088c: Preparing\n",
      "8d3551dbf7a9: Preparing\n",
      "64d2e4aaa54c: Preparing\n",
      "0d3833376c2f: Preparing\n",
      "4a048ea09024: Preparing\n",
      "b592b5433bbf: Preparing\n",
      "4a048ea09024: Waiting\n",
      "b592b5433bbf: Waiting\n",
      "24193137088c: Layer already exists\n",
      "8d3551dbf7a9: Layer already exists\n",
      "0d3833376c2f: Layer already exists\n",
      "64d2e4aaa54c: Layer already exists\n",
      "4a048ea09024: Layer already exists\n",
      "b592b5433bbf: Layer already exists\n",
      "f8bd028d5c96: Pushed\n",
      "latest: digest: sha256:a6705217a55a8b8a6c2a45884d6d2d7562804eec9f31336f0b128ad1c115c57a size: 1782\n"
     ]
    },
    {
     "name": "stderr",
     "output_type": "stream",
     "text": [
      "WARNING! Using --password via the CLI is insecure. Use --password-stdin.\n",
      "WARNING! Your password will be stored unencrypted in /home/ec2-user/.docker/config.json.\n",
      "Configure a credential helper to remove this warning. See\n",
      "https://docs.docker.com/engine/reference/commandline/login/#credentials-store\n",
      "\n"
     ]
    }
   ],
   "source": [
    "%%sh\n",
    "\n",
    "# This script shows how to build the Docker image and push it to ECR to be ready for use\n",
    "# by SageMaker.\n",
    "\n",
    "# The argument to this script is the image name. This will be used as the image on the local\n",
    "# machine and combined with the account and region to form the repository name for ECR.\n",
    "algorithm_name=sagemaker-random-forest\n",
    "\n",
    "cd container\n",
    "\n",
    "chmod +x random_forest/train\n",
    "chmod +x random_forest/serve\n",
    "\n",
    "account=$(aws sts get-caller-identity --query Account --output text)\n",
    "\n",
    "# Get the region defined in the current configuration (default to us-west-2 if none defined)\n",
    "region=$(aws configure get region)\n",
    "region=${region:-us-west-2}\n",
    "\n",
    "fullname=\"${account}.dkr.ecr.${region}.amazonaws.com/${algorithm_name}:latest\"\n",
    "\n",
    "# If the repository doesn't exist in ECR, create it.\n",
    "aws ecr describe-repositories --repository-names \"${algorithm_name}\" > /dev/null 2>&1\n",
    "\n",
    "if [ $? -ne 0 ]\n",
    "then\n",
    "    aws ecr create-repository --repository-name \"${algorithm_name}\" > /dev/null\n",
    "fi\n",
    "\n",
    "# Get the login command from ECR and execute it directly\n",
    "$(aws ecr get-login --region ${region} --no-include-email)\n",
    "\n",
    "# Build the docker image locally with the image name and then push it to ECR\n",
    "# with the full name.\n",
    "\n",
    "docker build  -t ${algorithm_name} .\n",
    "docker tag ${algorithm_name} ${fullname}\n",
    "\n",
    "docker push ${fullname}\n"
   ]
  },
  {
   "cell_type": "markdown",
   "metadata": {},
   "source": [
    "## Model training"
   ]
  },
  {
   "cell_type": "code",
   "execution_count": 5,
   "metadata": {},
   "outputs": [],
   "source": [
    "clf = sagemaker.estimator.Estimator(image_name=image, role=role, \n",
    "                                    train_instance_count=1,\n",
    "                                   train_instance_type='ml.c4.2xlarge',\n",
    "                                   output_path='s3://{}/output'.format('sagemaker-churns-prediction'),\n",
    "                                   sagemaker_session=sess)"
   ]
  },
  {
   "cell_type": "code",
   "execution_count": 6,
   "metadata": {},
   "outputs": [
    {
     "data": {
      "text/plain": [
       "'s3://sagemaker-churns-prediction/raw_data/churn_train.csv'"
      ]
     },
     "execution_count": 6,
     "metadata": {},
     "output_type": "execute_result"
    }
   ],
   "source": [
    "data_location = 's3://{}/{}'.format(bucket, 'raw_data/churn_train.csv')\n",
    "data_location"
   ]
  },
  {
   "cell_type": "code",
   "execution_count": 7,
   "metadata": {},
   "outputs": [
    {
     "name": "stdout",
     "output_type": "stream",
     "text": [
      "2020-06-02 21:36:46 Starting - Starting the training job...\n",
      "2020-06-02 21:36:48 Starting - Launching requested ML instances.........\n",
      "2020-06-02 21:38:30 Starting - Preparing the instances for training......\n",
      "2020-06-02 21:39:47 Downloading - Downloading input data...\n",
      "2020-06-02 21:39:53 Training - Downloading the training image..\u001b[34mStarting the training.\u001b[0m\n",
      "\u001b[34m/usr/local/lib/python2.7/dist-packages/sklearn/ensemble/forest.py:246: FutureWarning: The default value of n_estimators will change from 10 in version 0.20 to 100 in 0.22.\n",
      "  \"10 in version 0.20 to 100 in 0.22.\", FutureWarning)\u001b[0m\n",
      "\u001b[34mTraining complete.\u001b[0m\n",
      "\n",
      "2020-06-02 21:40:35 Uploading - Uploading generated training model\n",
      "2020-06-02 21:40:35 Completed - Training job completed\n",
      "Training seconds: 48\n",
      "Billable seconds: 48\n",
      "CPU times: user 481 ms, sys: 20.9 ms, total: 502 ms\n",
      "Wall time: 4min 12s\n"
     ]
    }
   ],
   "source": [
    "%time clf.fit(data_location)"
   ]
  }
 ],
 "metadata": {
  "kernelspec": {
   "display_name": "conda_python3",
   "language": "python",
   "name": "conda_python3"
  },
  "language_info": {
   "codemirror_mode": {
    "name": "ipython",
    "version": 3
   },
   "file_extension": ".py",
   "mimetype": "text/x-python",
   "name": "python",
   "nbconvert_exporter": "python",
   "pygments_lexer": "ipython3",
   "version": "3.6.5"
  }
 },
 "nbformat": 4,
 "nbformat_minor": 4
}
